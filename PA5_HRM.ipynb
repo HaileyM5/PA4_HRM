{
 "cells": [
  {
   "cell_type": "markdown",
   "id": "111ebe60",
   "metadata": {},
   "source": [
    "# PA_5\n",
    "#Hailey Mueller, Version 1\n",
    "#Spring 2023"
   ]
  },
  {
   "cell_type": "code",
   "execution_count": null,
   "id": "3b235a6a",
   "metadata": {
    "scrolled": true
   },
   "outputs": [],
   "source": [
    "Dict1 = {'basketball':'baloncesto',\n",
    "     'cat' :'gato',\n",
    "     'dog' : 'perro',\n",
    "    'computer': 'computadora',\n",
    "    'hat' : 'sombrero',\n",
    "    'blue': 'azul',\n",
    "    'chair': 'silla',\n",
    "    'couch': 'sofa',\n",
    "     'tree': 'arbol',\n",
    "    'car' : 'carro'}\n",
    "while True:\n",
    "    response=input(\"Enter a word to translate from English to Spanish (enter 0 to stop): \")\n",
    "    if response == '0':\n",
    "        break\n",
    "    elif response in Dict1.keys():\n",
    "      print(\"The Spanish word for \"+response.upper()+\" is\", Dict1[response])\n",
    "    else:\n",
    "      print(\"The Spanish word for not in the dict\") \n"
   ]
  },
  {
   "cell_type": "code",
   "execution_count": 6,
   "id": "6c705fc8",
   "metadata": {
    "scrolled": false
   },
   "outputs": [
    {
     "data": {
      "text/plain": [
       "{1: 14,\n",
       " 2: 18,\n",
       " 3: 18,\n",
       " 4: 17,\n",
       " 5: 12,\n",
       " 6: 9,\n",
       " 7: 12,\n",
       " 8: 7,\n",
       " 9: 9,\n",
       " 10: 13,\n",
       " 11: 17,\n",
       " 12: 16,\n",
       " 13: 5,\n",
       " 14: 4,\n",
       " 15: 8,\n",
       " 16: 13,\n",
       " 17: 18,\n",
       " 18: 13,\n",
       " 19: 18,\n",
       " 20: 6,\n",
       " 21: 7,\n",
       " 22: 4,\n",
       " 23: 5,\n",
       " 24: 9,\n",
       " 25: 9,\n",
       " 26: 3,\n",
       " 27: 12,\n",
       " 28: 16,\n",
       " 29: 11,\n",
       " 30: 4,\n",
       " 31: -1}"
      ]
     },
     "execution_count": 6,
     "metadata": {},
     "output_type": "execute_result"
    }
   ],
   "source": [
    "Temp_dict={1:57,2:65,3:64,4:63,5:53,6:48,7:53,8:44,9:48,10:55,11:62,12:61,13:41,14:39,15:47,16:56,17:65,18:55,19:64,20:42,21:44,22:39,23:41,24:49,25:49,26:38,27:53,28:60,29:51,30:40,31:30}\n",
    "\n",
    "for i in (Temp_dict):\n",
    "    Temp_dict[i]=round(((Temp_dict[i]-32)*5)/9)\n",
    "\n",
    "Temp_dict\n",
    "\n",
    "\n",
    "\n",
    "\n",
    "\n",
    "    \n",
    "\n"
   ]
  },
  {
   "cell_type": "code",
   "execution_count": null,
   "id": "5036331c",
   "metadata": {},
   "outputs": [],
   "source": [
    "d=dict()\n",
    "for x in range(1,16):\n",
    "    d[x]=x**2\n",
    "print(d)  "
   ]
  },
  {
   "cell_type": "code",
   "execution_count": null,
   "id": "d42f9607",
   "metadata": {},
   "outputs": [],
   "source": [
    "Temp_dict[1]"
   ]
  },
  {
   "cell_type": "code",
   "execution_count": null,
   "id": "f98afd2d",
   "metadata": {},
   "outputs": [],
   "source": []
  }
 ],
 "metadata": {
  "kernelspec": {
   "display_name": "Python 3 (ipykernel)",
   "language": "python",
   "name": "python3"
  },
  "language_info": {
   "codemirror_mode": {
    "name": "ipython",
    "version": 3
   },
   "file_extension": ".py",
   "mimetype": "text/x-python",
   "name": "python",
   "nbconvert_exporter": "python",
   "pygments_lexer": "ipython3",
   "version": "3.9.13"
  }
 },
 "nbformat": 4,
 "nbformat_minor": 5
}
